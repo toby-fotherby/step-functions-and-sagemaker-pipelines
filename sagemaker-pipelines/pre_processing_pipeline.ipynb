{
 "cells": [
  {
   "cell_type": "code",
   "execution_count": 1,
   "id": "580cba28-0312-41ab-a6d0-f62f84e20589",
   "metadata": {},
   "outputs": [
    {
     "name": "stdout",
     "output_type": "stream",
     "text": [
      "Requirement already satisfied: s3fs in /opt/conda/lib/python3.11/site-packages (2024.10.0)\n",
      "Requirement already satisfied: aiobotocore<3.0.0,>=2.5.4 in /opt/conda/lib/python3.11/site-packages (from s3fs) (2.20.0)\n",
      "Requirement already satisfied: fsspec==2024.10.0.* in /opt/conda/lib/python3.11/site-packages (from s3fs) (2024.10.0)\n",
      "Requirement already satisfied: aiohttp!=4.0.0a0,!=4.0.0a1 in /opt/conda/lib/python3.11/site-packages (from s3fs) (3.9.5)\n",
      "Requirement already satisfied: aioitertools<1.0.0,>=0.5.1 in /opt/conda/lib/python3.11/site-packages (from aiobotocore<3.0.0,>=2.5.4->s3fs) (0.12.0)\n",
      "Requirement already satisfied: botocore<1.36.24,>=1.36.20 in /opt/conda/lib/python3.11/site-packages (from aiobotocore<3.0.0,>=2.5.4->s3fs) (1.36.23)\n",
      "Requirement already satisfied: python-dateutil<3.0.0,>=2.1 in /opt/conda/lib/python3.11/site-packages (from aiobotocore<3.0.0,>=2.5.4->s3fs) (2.9.0.post0)\n",
      "Requirement already satisfied: jmespath<2.0.0,>=0.7.1 in /opt/conda/lib/python3.11/site-packages (from aiobotocore<3.0.0,>=2.5.4->s3fs) (1.0.1)\n",
      "Requirement already satisfied: multidict<7.0.0,>=6.0.0 in /opt/conda/lib/python3.11/site-packages (from aiobotocore<3.0.0,>=2.5.4->s3fs) (6.1.0)\n",
      "Requirement already satisfied: urllib3!=2.2.0,<3,>=1.25.4 in /opt/conda/lib/python3.11/site-packages (from aiobotocore<3.0.0,>=2.5.4->s3fs) (2.3.0)\n",
      "Requirement already satisfied: wrapt<2.0.0,>=1.10.10 in /opt/conda/lib/python3.11/site-packages (from aiobotocore<3.0.0,>=2.5.4->s3fs) (1.17.2)\n",
      "Requirement already satisfied: aiosignal>=1.1.2 in /opt/conda/lib/python3.11/site-packages (from aiohttp!=4.0.0a0,!=4.0.0a1->s3fs) (1.3.2)\n",
      "Requirement already satisfied: attrs>=17.3.0 in /opt/conda/lib/python3.11/site-packages (from aiohttp!=4.0.0a0,!=4.0.0a1->s3fs) (23.2.0)\n",
      "Requirement already satisfied: frozenlist>=1.1.1 in /opt/conda/lib/python3.11/site-packages (from aiohttp!=4.0.0a0,!=4.0.0a1->s3fs) (1.5.0)\n",
      "Requirement already satisfied: yarl<2.0,>=1.0 in /opt/conda/lib/python3.11/site-packages (from aiohttp!=4.0.0a0,!=4.0.0a1->s3fs) (1.18.3)\n",
      "Requirement already satisfied: six>=1.5 in /opt/conda/lib/python3.11/site-packages (from python-dateutil<3.0.0,>=2.1->aiobotocore<3.0.0,>=2.5.4->s3fs) (1.17.0)\n",
      "Requirement already satisfied: idna>=2.0 in /opt/conda/lib/python3.11/site-packages (from yarl<2.0,>=1.0->aiohttp!=4.0.0a0,!=4.0.0a1->s3fs) (3.10)\n",
      "Requirement already satisfied: propcache>=0.2.0 in /opt/conda/lib/python3.11/site-packages (from yarl<2.0,>=1.0->aiohttp!=4.0.0a0,!=4.0.0a1->s3fs) (0.2.1)\n",
      "Note: you may need to restart the kernel to use updated packages.\n"
     ]
    }
   ],
   "source": [
    "%pip install s3fs"
   ]
  },
  {
   "cell_type": "code",
   "execution_count": 2,
   "id": "d0b2d6b5-b3fa-4fe1-a5b8-5275b1b7bb1f",
   "metadata": {},
   "outputs": [
    {
     "name": "stderr",
     "output_type": "stream",
     "text": [
      "/opt/conda/lib/python3.11/site-packages/pydantic/_internal/_fields.py:192: UserWarning: Field name \"json\" in \"MonitoringDatasetFormat\" shadows an attribute in parent \"Base\"\n",
      "  warnings.warn(\n"
     ]
    },
    {
     "name": "stdout",
     "output_type": "stream",
     "text": [
      "sagemaker.config INFO - Not applying SDK defaults from location: /etc/xdg/sagemaker/config.yaml\n",
      "sagemaker.config INFO - Fetched defaults config from location: /home/sagemaker-user/.config/sagemaker/config.yaml\n"
     ]
    }
   ],
   "source": [
    "import sagemaker\n",
    "from sagemaker.workflow.pipeline import Pipeline\n",
    "from sagemaker.workflow.steps import ProcessingStep\n",
    "from sagemaker.processing import ScriptProcessor, ProcessingInput, ProcessingOutput\n",
    "from sagemaker.workflow.parameters import ParameterString\n",
    "from sagemaker.workflow.step_collections import RegisterModel\n",
    "from sagemaker.workflow.properties import PropertyFile\n",
    "from sagemaker import get_execution_role\n",
    "from time import gmtime, strftime, sleep\n",
    "from importlib.metadata import version, PackageNotFoundError"
   ]
  },
  {
   "cell_type": "code",
   "execution_count": 3,
   "id": "607afe4c-5b70-441d-b4fd-4f8503617931",
   "metadata": {},
   "outputs": [],
   "source": [
    "sm_role = sagemaker.get_execution_role()"
   ]
  },
  {
   "cell_type": "code",
   "execution_count": 4,
   "id": "ea8fcae6-8cab-4f16-9bee-6314d8d53b71",
   "metadata": {},
   "outputs": [
    {
     "name": "stdout",
     "output_type": "stream",
     "text": [
      "\n",
      "New requirements.txt file created with the following content:\n",
      "s3fs==2024.10.0\n",
      "sagemaker==2.240.0\n"
     ]
    }
   ],
   "source": [
    "packages = ['s3fs', 'sagemaker', ]\n",
    "requirements = [f'{p}=={version(p)}' for p in packages]\n",
    "\n",
    "if requirements:\n",
    "    with open('requirements.txt', 'w') as f:\n",
    "        f.write('\\n'.join(requirements))\n",
    "    print(\"\\nNew requirements.txt file created with the following content:\")\n",
    "    print('\\n'.join(requirements))\n",
    "else:\n",
    "    print(\"\\nNo requirements.txt file created as no packages were found\")"
   ]
  },
  {
   "cell_type": "code",
   "execution_count": 5,
   "id": "6d95eb45-682f-43d5-8d59-d2a34aec1b0a",
   "metadata": {},
   "outputs": [
    {
     "name": "stdout",
     "output_type": "stream",
     "text": [
      "/etc/xdg/sagemaker/config.yaml\n",
      "/home/sagemaker-user/.config/sagemaker/config.yaml\n"
     ]
    }
   ],
   "source": [
    "# Print default location of configuration files\n",
    "import os\n",
    "from platformdirs import site_config_dir, user_config_dir\n",
    "\n",
    "#Prints the location of the admin config file\n",
    "print(os.path.join(site_config_dir(\"sagemaker\"), \"config.yaml\"))\n",
    "\n",
    "#Prints the location of the user config file\n",
    "print(os.path.join(user_config_dir(\"sagemaker\"), \"config.yaml\"))"
   ]
  },
  {
   "cell_type": "code",
   "execution_count": 6,
   "id": "25f2e2e4-19e9-425d-8bd2-3e05974d80f8",
   "metadata": {},
   "outputs": [
    {
     "name": "stdout",
     "output_type": "stream",
     "text": [
      "Overwriting config.yaml\n"
     ]
    }
   ],
   "source": [
    "%%writefile config.yaml\n",
    "\n",
    "SchemaVersion: '1.0'\n",
    "SageMaker:\n",
    "    PythonSDK:\n",
    "        Modules:\n",
    "            RemoteFunction:\n",
    "                InstanceType: ml.m5.xlarge\n",
    "                Dependencies: ./requirements.txt\n",
    "                IncludeLocalWorkDir: true\n",
    "                CustomFileFilter:\n",
    "                    IgnoreNamePatterns: # files or directories to ignore\n",
    "                        - \"*.ipynb\" # all notebook files\n",
    "                        - \"*.md\" # all markdown files\n",
    "                        - \"__pycache__\""
   ]
  },
  {
   "cell_type": "code",
   "execution_count": 7,
   "id": "87abd780-e37e-4b38-bbd8-7d9eacf94544",
   "metadata": {},
   "outputs": [],
   "source": [
    "# copy the configuration file to user config file location\n",
    "%mkdir -p {user_config_dir(\"sagemaker\")}\n",
    "%cp config.yaml {os.path.join(user_config_dir(\"sagemaker\"), \"config.yaml\")}"
   ]
  },
  {
   "cell_type": "code",
   "execution_count": 8,
   "id": "ddf64c90-d9d6-491a-a358-560cf903d7b4",
   "metadata": {},
   "outputs": [
    {
     "data": {
      "text/plain": [
       "'alt-llm-eval-poc-pipeline-27-16-46-05'"
      ]
     },
     "execution_count": 8,
     "metadata": {},
     "output_type": "execute_result"
    }
   ],
   "source": [
    "# Set name of the pipeline\n",
    "project = \"alt-llm-eval-poc\"\n",
    "current_timestamp = strftime('%d-%H-%M-%S', gmtime())\n",
    "pipeline_name = f\"{project}-pipeline-{current_timestamp}\"\n",
    "pipeline_name"
   ]
  },
  {
   "cell_type": "code",
   "execution_count": 9,
   "id": "a127cd5f-d525-4480-8b88-cfbd8688eb84",
   "metadata": {},
   "outputs": [],
   "source": [
    "# Set instance types and counts\n",
    "process_instance_type = \"ml.m5.large\"\n",
    "train_instance_type = \"ml.m5.large\""
   ]
  },
  {
   "cell_type": "code",
   "execution_count": 10,
   "id": "da5c26dd-29ea-48ce-bab3-4ac3c275eb23",
   "metadata": {},
   "outputs": [],
   "source": [
    "!mkdir -p custom_processing"
   ]
  },
  {
   "cell_type": "code",
   "execution_count": 11,
   "id": "61b283ee-9e55-4509-acb0-f13d3f2d4c7b",
   "metadata": {},
   "outputs": [
    {
     "name": "stdout",
     "output_type": "stream",
     "text": [
      "Overwriting custom_processing/preprocessing.py\n"
     ]
    }
   ],
   "source": [
    "%%writefile custom_processing/preprocessing.py\n",
    "import os\n",
    "import json\n",
    "import sys\n",
    "\n",
    "def preprocess(\n",
    "    config_file_a,\n",
    "    config_file_b,\n",
    "    config_file_c,\n",
    "    pipeline_run_name=None,\n",
    "    run_id=None,\n",
    "    always_fail=\"no\"):\n",
    "\n",
    "    if always_fail.lower() == \"yes\":\n",
    "        print(f\"custom_processing/preprocessing exiting: given always_fail value of: {always_fail}\")\n",
    "        output_data = {\n",
    "            \"run_status\": \"Failure\",\n",
    "            \"message\": \"Failing due to always_fail parameter being set to True\"\n",
    "        }\n",
    "        return {**output_data}\n",
    "    else:\n",
    "        print(f\"custom_processing/preprocessing continuing: given always_fail value of: {always_fail}\")\n",
    "\n",
    "    \n",
    "    try:\n",
    "        # Check access to config files here\n",
    "            \n",
    "        # For now just output the S3 URIs\n",
    "        config_files = [config_file_a, config_file_b, config_file_c]\n",
    "        for cf in config_files:\n",
    "            print(f\"custom_processing/preprocessing: given config file: {cf}\")\n",
    "    \n",
    "        # Read in the configuration file here and use the values to drive the processing \n",
    "    \n",
    "        # ....\n",
    "        \n",
    "        # Do the processing here the files here\n",
    "        \n",
    "    \n",
    "        # Indicate success and create the output.json\n",
    "        output_data = {\n",
    "            \"run_status\": \"Success\",\n",
    "            # \"run_status\": \"Failure\",\n",
    "            \"message\": \"Processing completed successfully.\",\n",
    "        }\n",
    "\n",
    "    except Exception as e:\n",
    "        # If there's an error, write a failure status\n",
    "        output_data = {\n",
    "            \"run_status\": \"Failure\",\n",
    "            \"message\": str(e)\n",
    "        }\n",
    "    \n",
    "    return {**output_data}"
   ]
  },
  {
   "cell_type": "code",
   "execution_count": 12,
   "id": "0a18af96-bee4-4f59-8b65-a629f7578e0b",
   "metadata": {},
   "outputs": [],
   "source": [
    "# Python function code is in the local files\n",
    "from custom_processing.preprocessing import preprocess"
   ]
  },
  {
   "cell_type": "code",
   "execution_count": 13,
   "id": "863b8f27-c318-49b2-aeb5-27dd7a4d7e41",
   "metadata": {},
   "outputs": [
    {
     "name": "stdout",
     "output_type": "stream",
     "text": [
      "custom_processing/preprocessing continuing: given always_fail value of: no\n",
      "custom_processing/preprocessing: given config file: a.yaml\n",
      "custom_processing/preprocessing: given config file: b.yaml\n",
      "custom_processing/preprocessing: given config file: c.yaml\n"
     ]
    },
    {
     "data": {
      "text/plain": [
       "'Success'"
      ]
     },
     "execution_count": 13,
     "metadata": {},
     "output_type": "execute_result"
    }
   ],
   "source": [
    "pre_proc_status = preprocess(config_file_a=\"a.yaml\",\n",
    "           config_file_b=\"b.yaml\", \n",
    "           config_file_c=\"c.yaml\")\n",
    "pre_proc_status['run_status']"
   ]
  },
  {
   "cell_type": "code",
   "execution_count": 14,
   "id": "b1391497-1697-45b5-ba7b-97764a0f7c17",
   "metadata": {},
   "outputs": [
    {
     "name": "stdout",
     "output_type": "stream",
     "text": [
      "custom_processing/preprocessing exiting: given always_fail value of: Yes\n"
     ]
    },
    {
     "data": {
      "text/plain": [
       "'Failure'"
      ]
     },
     "execution_count": 14,
     "metadata": {},
     "output_type": "execute_result"
    }
   ],
   "source": [
    "pre_proc_status = preprocess(config_file_a=\"a.yaml\",\n",
    "                             config_file_b=\"b.yaml\",\n",
    "                             config_file_c=\"c.yaml\",\n",
    "                             always_fail=\"Yes\")\n",
    "pre_proc_status['run_status']"
   ]
  },
  {
   "cell_type": "code",
   "execution_count": 15,
   "id": "0decd195-00fd-4807-b0c3-d3e398ca9246",
   "metadata": {},
   "outputs": [
    {
     "data": {
      "text/plain": [
       "'2.240.0'"
      ]
     },
     "execution_count": 15,
     "metadata": {},
     "output_type": "execute_result"
    }
   ],
   "source": [
    "import pandas as pd\n",
    "import json\n",
    "import boto3\n",
    "import pathlib\n",
    "import io\n",
    "import sagemaker\n",
    "import mlflow\n",
    "from time import gmtime, strftime, sleep\n",
    "from sagemaker.deserializers import CSVDeserializer\n",
    "from sagemaker.serializers import CSVSerializer\n",
    "\n",
    "from sagemaker.workflow.execution_variables import ExecutionVariables\n",
    "from sagemaker.workflow.pipeline_context import PipelineSession\n",
    "from sagemaker.xgboost.estimator import XGBoost\n",
    "from sagemaker.sklearn.processing import SKLearnProcessor\n",
    "from sagemaker.processing import (\n",
    "    ProcessingInput, \n",
    "    ProcessingOutput, \n",
    "    ScriptProcessor\n",
    ")\n",
    "from sagemaker.inputs import TrainingInput\n",
    "\n",
    "from sagemaker.workflow.pipeline import Pipeline\n",
    "from sagemaker.workflow.steps import (\n",
    "    ProcessingStep, \n",
    "    TrainingStep, \n",
    "    CreateModelStep,\n",
    "    CacheConfig\n",
    ")\n",
    "from sagemaker.workflow.check_job_config import CheckJobConfig\n",
    "from sagemaker.workflow.parameters import (\n",
    "    ParameterInteger, \n",
    "    ParameterFloat, \n",
    "    ParameterString, \n",
    "    ParameterBoolean\n",
    ")\n",
    "from sagemaker.workflow.quality_check_step import (\n",
    "    DataQualityCheckConfig,\n",
    "    ModelQualityCheckConfig,\n",
    "    QualityCheckStep,\n",
    ")\n",
    "from sagemaker.workflow.clarify_check_step import (\n",
    "    ModelBiasCheckConfig, \n",
    "    ClarifyCheckStep, \n",
    "    ModelExplainabilityCheckConfig\n",
    ")\n",
    "from sagemaker import Model\n",
    "from sagemaker.inputs import CreateModelInput\n",
    "from sagemaker.workflow.model_step import ModelStep\n",
    "from sagemaker.workflow.fail_step import FailStep\n",
    "from sagemaker.workflow.conditions import (\n",
    "    ConditionGreaterThan,\n",
    "    ConditionEquals,\n",
    "    ConditionNot,\n",
    "    ConditionOr\n",
    ")\n",
    "from sagemaker.workflow.parallelism_config import ParallelismConfiguration\n",
    "from sagemaker.workflow.properties import PropertyFile\n",
    "from sagemaker.workflow.condition_step import ConditionStep\n",
    "from sagemaker.workflow.functions import (\n",
    "    Join,\n",
    "    JsonGet\n",
    ")\n",
    "from sagemaker.workflow.lambda_step import (\n",
    "    LambdaStep,\n",
    "    LambdaOutput,\n",
    "    LambdaOutputTypeEnum,\n",
    ")\n",
    "from sagemaker.lambda_helper import Lambda\n",
    "\n",
    "from sagemaker.model_metrics import (\n",
    "    MetricsSource, \n",
    "    ModelMetrics, \n",
    "    FileSource\n",
    ")\n",
    "from sagemaker.drift_check_baselines import DriftCheckBaselines\n",
    "from sagemaker.workflow.pipeline_definition_config import PipelineDefinitionConfig \n",
    "from sagemaker.image_uris import retrieve\n",
    "from sagemaker.workflow.function_step import step\n",
    "from sagemaker.workflow.step_outputs import get_step\n",
    "from sagemaker.model_monitor import DatasetFormat, model_monitoring\n",
    "from IPython.display import HTML\n",
    "\n",
    "sagemaker.__version__"
   ]
  },
  {
   "cell_type": "markdown",
   "id": "7a839c50-4fd8-46b4-8373-a882f7acf6b6",
   "metadata": {},
   "source": [
    "### Setup pipeline parameters\n",
    "SageMaker Pipelines supports [parameterization](https://docs.aws.amazon.com/sagemaker/latest/dg/build-and-manage-parameters.html), which allows you to specify input parameters at runtime without changing your pipeline code. You can use the parameter classes available under the [`sagemaker.workflow.parameters`](https://sagemaker.readthedocs.io/en/stable/workflows/pipelines/sagemaker.workflow.pipelines.html#parameters) module.\n",
    "Parameters have a default value, which you can override by specifying parameter values when starting a pipeline execution."
   ]
  },
  {
   "cell_type": "code",
   "execution_count": 16,
   "id": "20a6be5c-2265-4587-93a6-6c5c89f26186",
   "metadata": {},
   "outputs": [],
   "source": [
    "config_file_a_param = ParameterString(\n",
    "    name=\"Config_File_A_URI\",\n",
    "    default_value=\"a.yaml\",\n",
    ")\n",
    "\n",
    "config_file_b_param = ParameterString(\n",
    "    name=\"Config_File_B_URI\",\n",
    "    default_value=\"b.yaml\",\n",
    ")\n",
    "\n",
    "config_file_c_param = ParameterString(\n",
    "    name=\"Config_File_C_URI\",\n",
    "    default_value=\"c.yaml\",\n",
    ")\n",
    "\n",
    "always_fail_param = ParameterString(\n",
    "    name=\"AlwaysFail\",\n",
    "    default_value=\"no\",\n",
    ")\n",
    "\n",
    "process_instance_type_param = ParameterString(\n",
    "    name=\"ProcessingInstanceType\",\n",
    "    default_value=process_instance_type,\n",
    ")"
   ]
  },
  {
   "cell_type": "code",
   "execution_count": 17,
   "id": "32cbe1e6-fad2-4750-b904-fa1788e75cea",
   "metadata": {},
   "outputs": [],
   "source": [
    "# preprocess data step\n",
    "step_preprocess = step(\n",
    "    preprocess,\n",
    "    instance_type=process_instance_type_param,\n",
    "    name=f\"{project}--preprocessing\",\n",
    "    keep_alive_period_in_seconds=3600,\n",
    ")(\n",
    "    config_file_a=config_file_a_param,\n",
    "    config_file_b=config_file_b_param,\n",
    "    config_file_c=config_file_c_param,\n",
    "    pipeline_run_name=ExecutionVariables.PIPELINE_EXECUTION_ID,\n",
    "    always_fail=always_fail_param\n",
    ")"
   ]
  },
  {
   "cell_type": "raw",
   "id": "eee70f96-ef11-4332-ab84-966093fbca68",
   "metadata": {},
   "source": [
    "# condition to check in the condition step\n",
    "condition_not_ok = ConditionOr(conditions=[\n",
    "        ConditionNot(ConditionEquals(left=step_preprocess['run_status'], right='Success')),\n",
    "        ConditionEquals(left=True, right=always_fail_param)\n",
    "    ])\n",
    "\n",
    "\n",
    "step_fail = FailStep(\n",
    "    name=f\"{project}-fail\",\n",
    "    error_message=\"Data pre-processing failed\",\n",
    ")\n",
    "\n",
    "# conditional register step\n",
    "step_conditional_exit = ConditionStep(\n",
    "    name=f\"{project}-processing-status\",\n",
    "    conditions=[condition_not_ok],\n",
    "    if_steps=[step_fail]\n",
    ")\n"
   ]
  },
  {
   "cell_type": "code",
   "execution_count": 18,
   "id": "54f80e09-0a4d-4c10-a5d2-86e3f9794653",
   "metadata": {},
   "outputs": [],
   "source": [
    "# condition to check in the condition step\n",
    "condition_not_ok = ConditionNot(ConditionEquals(left=step_preprocess['run_status'], right='Success'))\n",
    "\n",
    "\n",
    "step_fail = FailStep(\n",
    "    name=f\"{project}-fail\",\n",
    "    error_message=\"Data pre-processing failed\",\n",
    ")\n",
    "\n",
    "# conditional register step\n",
    "step_conditional_exit = ConditionStep(\n",
    "    name=f\"{project}-processing-status\",\n",
    "    conditions=[condition_not_ok],\n",
    "    if_steps=[step_fail]\n",
    ")\n"
   ]
  },
  {
   "cell_type": "code",
   "execution_count": 19,
   "id": "0743e0be-6da0-4a43-a762-20b8d7953bc6",
   "metadata": {},
   "outputs": [],
   "source": [
    "# Create a pipeline object\n",
    "pipeline = Pipeline(\n",
    "    name=f\"{pipeline_name}\",\n",
    "    parameters=[\n",
    "        config_file_a_param,\n",
    "        config_file_b_param,\n",
    "        config_file_c_param,\n",
    "        process_instance_type_param,\n",
    "        always_fail_param\n",
    "    ],\n",
    "    steps=[step_conditional_exit],\n",
    "    pipeline_definition_config=PipelineDefinitionConfig(use_custom_job_prefix=True)\n",
    ")"
   ]
  },
  {
   "cell_type": "code",
   "execution_count": 20,
   "id": "576c7192-8d71-4933-85f5-28e4ef7e5c3f",
   "metadata": {},
   "outputs": [
    {
     "name": "stdout",
     "output_type": "stream",
     "text": [
      "sagemaker.config INFO - Applied value from config key = SageMaker.PythonSDK.Modules.RemoteFunction.Dependencies\n",
      "sagemaker.config INFO - Applied value from config key = SageMaker.PythonSDK.Modules.RemoteFunction.IncludeLocalWorkDir\n",
      "sagemaker.config INFO - Applied value from config key = SageMaker.PythonSDK.Modules.RemoteFunction.CustomFileFilter.IgnoreNamePatterns\n"
     ]
    },
    {
     "name": "stderr",
     "output_type": "stream",
     "text": [
      "2025-03-27 16:47:54,359 sagemaker.remote_function INFO     Uploading serialized function code to s3://sagemaker-us-west-2-396913714882/alt-llm-eval-poc-pipeline-27-16-46-05/alt-llm-eval-poc--preprocessing/2025-03-27-16-47-51-607/function\n",
      "2025-03-27 16:47:54,499 sagemaker.remote_function INFO     Uploading serialized function arguments to s3://sagemaker-us-west-2-396913714882/alt-llm-eval-poc-pipeline-27-16-46-05/alt-llm-eval-poc--preprocessing/2025-03-27-16-47-51-607/arguments\n",
      "2025-03-27 16:47:54,692 sagemaker.remote_function INFO     Copied dependencies file at './requirements.txt' to '/tmp/tmprs4humml/requirements.txt'\n",
      "2025-03-27 16:47:54,717 sagemaker.remote_function INFO     Successfully uploaded dependencies and pre execution scripts to 's3://sagemaker-us-west-2-396913714882/alt-llm-eval-poc-pipeline-27-16-46-05/alt-llm-eval-poc--preprocessing/2025-03-27-16-47-51-607/pre_exec_script_and_dependencies'\n",
      "2025-03-27 16:47:54,720 sagemaker.remote_function INFO     Copied user workspace to '/tmp/tmp316egzqc/temp_workspace/sagemaker_remote_function_workspace'\n",
      "2025-03-27 16:47:54,735 sagemaker.remote_function INFO     Successfully created workdir archive at '/tmp/tmp316egzqc/workspace.zip'\n",
      "2025-03-27 16:47:54,774 sagemaker.remote_function INFO     Successfully uploaded workdir to 's3://sagemaker-us-west-2-396913714882/alt-llm-eval-poc-pipeline-27-16-46-05/sm_rf_user_ws/2025-03-27-16-47-51-607/workspace.zip'\n"
     ]
    },
    {
     "data": {
      "text/plain": [
       "{'PipelineArn': 'arn:aws:sagemaker:us-west-2:396913714882:pipeline/alt-llm-eval-poc-pipeline-27-16-46-05',\n",
       " 'ResponseMetadata': {'RequestId': 'ba8cb763-642b-4afa-a8d1-8c5e09911719',\n",
       "  'HTTPStatusCode': 200,\n",
       "  'HTTPHeaders': {'x-amzn-requestid': 'ba8cb763-642b-4afa-a8d1-8c5e09911719',\n",
       "   'content-type': 'application/x-amz-json-1.1',\n",
       "   'content-length': '105',\n",
       "   'date': 'Thu, 27 Mar 2025 16:47:55 GMT'},\n",
       "  'RetryAttempts': 0}}"
      ]
     },
     "execution_count": 20,
     "metadata": {},
     "output_type": "execute_result"
    }
   ],
   "source": [
    "# Upsert operation serialize the function code, arguments, and other artefacts to S3 where it can be accessed during pipeline's runtime\n",
    "pipeline.upsert(role_arn=sm_role)"
   ]
  },
  {
   "cell_type": "markdown",
   "id": "fa9f4950-d891-4fcc-a7a0-7adfe4510c6d",
   "metadata": {},
   "source": [
    "### Execute the pipeline\n",
    "The first pipeline execution takes about 4 minutes. Note the usage of the `keep_alive_period_in_seconds` parameter in the step definition for the warm pool reuse and `CacheConfig` in the Training step for the caching of step results.\n",
    "A subsequent pipeline execution takes about 3 minutes due to usage of caching and a warm pool."
   ]
  },
  {
   "cell_type": "code",
   "execution_count": 21,
   "id": "65a1aa56-5700-42af-afcd-a31bee8a45c3",
   "metadata": {},
   "outputs": [
    {
     "data": {
      "text/plain": [
       "'alt-llm-eval-poc-pipeline-27-16-46-05'"
      ]
     },
     "execution_count": 21,
     "metadata": {},
     "output_type": "execute_result"
    }
   ],
   "source": [
    "pipeline_name"
   ]
  },
  {
   "cell_type": "code",
   "execution_count": 22,
   "id": "e03ab696-d1dd-4e27-a9e4-16f3f9ef213b",
   "metadata": {},
   "outputs": [
    {
     "data": {
      "text/plain": [
       "{'PipelineArn': 'arn:aws:sagemaker:us-west-2:396913714882:pipeline/alt-llm-eval-poc-pipeline-27-16-46-05',\n",
       " 'PipelineExecutionArn': 'arn:aws:sagemaker:us-west-2:396913714882:pipeline/alt-llm-eval-poc-pipeline-27-16-46-05/execution/5l0y0z76e8gu',\n",
       " 'PipelineExecutionDisplayName': 'execution-1743094075312',\n",
       " 'PipelineExecutionStatus': 'Executing',\n",
       " 'CreationTime': datetime.datetime(2025, 3, 27, 16, 47, 55, 241000, tzinfo=tzlocal()),\n",
       " 'LastModifiedTime': datetime.datetime(2025, 3, 27, 16, 47, 55, 241000, tzinfo=tzlocal()),\n",
       " 'CreatedBy': {'UserProfileArn': 'arn:aws:sagemaker:us-west-2:396913714882:user-profile/d-jogucphocgiz/toby-2024-11-07',\n",
       "  'UserProfileName': 'toby-2024-11-07',\n",
       "  'DomainId': 'd-jogucphocgiz',\n",
       "  'IamIdentity': {'Arn': 'arn:aws:sts::396913714882:assumed-role/AmazonSageMaker-ExecutionRole-20241022T112182/SageMaker',\n",
       "   'PrincipalId': 'AROAVY2PGU3BPA645TTQE:SageMaker'}},\n",
       " 'LastModifiedBy': {'UserProfileArn': 'arn:aws:sagemaker:us-west-2:396913714882:user-profile/d-jogucphocgiz/toby-2024-11-07',\n",
       "  'UserProfileName': 'toby-2024-11-07',\n",
       "  'DomainId': 'd-jogucphocgiz',\n",
       "  'IamIdentity': {'Arn': 'arn:aws:sts::396913714882:assumed-role/AmazonSageMaker-ExecutionRole-20241022T112182/SageMaker',\n",
       "   'PrincipalId': 'AROAVY2PGU3BPA645TTQE:SageMaker'}},\n",
       " 'ResponseMetadata': {'RequestId': 'b86a4333-e807-4994-867e-9a7c98d99dd6',\n",
       "  'HTTPStatusCode': 200,\n",
       "  'HTTPHeaders': {'x-amzn-requestid': 'b86a4333-e807-4994-867e-9a7c98d99dd6',\n",
       "   'content-type': 'application/x-amz-json-1.1',\n",
       "   'content-length': '1107',\n",
       "   'date': 'Thu, 27 Mar 2025 16:47:55 GMT'},\n",
       "  'RetryAttempts': 0}}"
      ]
     },
     "execution_count": 22,
     "metadata": {},
     "output_type": "execute_result"
    }
   ],
   "source": [
    "pipeline_execution = pipeline.start()\n",
    "pipeline_execution.describe()"
   ]
  },
  {
   "cell_type": "code",
   "execution_count": 23,
   "id": "14047965-1381-49ee-9858-81f4cb182ff6",
   "metadata": {},
   "outputs": [],
   "source": [
    "import time\n",
    "time.sleep(3)"
   ]
  },
  {
   "cell_type": "code",
   "execution_count": 24,
   "id": "388df905-2131-446f-94d3-88321b1e10a5",
   "metadata": {},
   "outputs": [
    {
     "data": {
      "text/plain": [
       "[{'StepName': 'alt-llm-eval-poc--preprocessing',\n",
       "  'StartTime': datetime.datetime(2025, 3, 27, 16, 47, 55, 946000, tzinfo=tzlocal()),\n",
       "  'StepStatus': 'Executing',\n",
       "  'Metadata': {'TrainingJob': {'Arn': 'arn:aws:sagemaker:us-west-2:396913714882:training-job/preprocess-5l0y0z76e8gu-BDKGKa85jn'}},\n",
       "  'AttemptCount': 1}]"
      ]
     },
     "execution_count": 24,
     "metadata": {},
     "output_type": "execute_result"
    }
   ],
   "source": [
    "pipeline_execution.list_steps()"
   ]
  },
  {
   "cell_type": "code",
   "execution_count": 25,
   "id": "54d76073-ebe4-4a63-80c0-16eaf30ef7a1",
   "metadata": {},
   "outputs": [],
   "source": [
    "time.sleep(3)"
   ]
  },
  {
   "cell_type": "code",
   "execution_count": 26,
   "id": "c3e050c9-cb2b-4e4e-aea7-87c9788f225c",
   "metadata": {},
   "outputs": [],
   "source": [
    "runtime_parameters = {\n",
    "        'AlwaysFail': \"Yes\"\n",
    "    }"
   ]
  },
  {
   "cell_type": "code",
   "execution_count": 27,
   "id": "cc0c8fb2-67dc-4763-9832-5fc79ade11fb",
   "metadata": {},
   "outputs": [
    {
     "data": {
      "text/plain": [
       "{'PipelineArn': 'arn:aws:sagemaker:us-west-2:396913714882:pipeline/alt-llm-eval-poc-pipeline-27-16-46-05',\n",
       " 'PipelineExecutionArn': 'arn:aws:sagemaker:us-west-2:396913714882:pipeline/alt-llm-eval-poc-pipeline-27-16-46-05/execution/605x9kv1q06j',\n",
       " 'PipelineExecutionDisplayName': 'execution-1743094083899',\n",
       " 'PipelineExecutionStatus': 'Executing',\n",
       " 'CreationTime': datetime.datetime(2025, 3, 27, 16, 48, 3, 840000, tzinfo=tzlocal()),\n",
       " 'LastModifiedTime': datetime.datetime(2025, 3, 27, 16, 48, 3, 840000, tzinfo=tzlocal()),\n",
       " 'CreatedBy': {'UserProfileArn': 'arn:aws:sagemaker:us-west-2:396913714882:user-profile/d-jogucphocgiz/toby-2024-11-07',\n",
       "  'UserProfileName': 'toby-2024-11-07',\n",
       "  'DomainId': 'd-jogucphocgiz',\n",
       "  'IamIdentity': {'Arn': 'arn:aws:sts::396913714882:assumed-role/AmazonSageMaker-ExecutionRole-20241022T112182/SageMaker',\n",
       "   'PrincipalId': 'AROAVY2PGU3BPA645TTQE:SageMaker'}},\n",
       " 'LastModifiedBy': {'UserProfileArn': 'arn:aws:sagemaker:us-west-2:396913714882:user-profile/d-jogucphocgiz/toby-2024-11-07',\n",
       "  'UserProfileName': 'toby-2024-11-07',\n",
       "  'DomainId': 'd-jogucphocgiz',\n",
       "  'IamIdentity': {'Arn': 'arn:aws:sts::396913714882:assumed-role/AmazonSageMaker-ExecutionRole-20241022T112182/SageMaker',\n",
       "   'PrincipalId': 'AROAVY2PGU3BPA645TTQE:SageMaker'}},\n",
       " 'ResponseMetadata': {'RequestId': 'bdb61271-c30f-4298-9f2e-9079bfb92eb5',\n",
       "  'HTTPStatusCode': 200,\n",
       "  'HTTPHeaders': {'x-amzn-requestid': 'bdb61271-c30f-4298-9f2e-9079bfb92eb5',\n",
       "   'content-type': 'application/x-amz-json-1.1',\n",
       "   'content-length': '1105',\n",
       "   'date': 'Thu, 27 Mar 2025 16:48:04 GMT'},\n",
       "  'RetryAttempts': 0}}"
      ]
     },
     "execution_count": 27,
     "metadata": {},
     "output_type": "execute_result"
    }
   ],
   "source": [
    "pipeline_execution_fail = pipeline.start(parameters=runtime_parameters)\n",
    "pipeline_execution_fail.describe()"
   ]
  },
  {
   "cell_type": "code",
   "execution_count": 28,
   "id": "708d40a0-04cb-4488-891f-4257ebd6396b",
   "metadata": {},
   "outputs": [],
   "source": [
    "time.sleep(3)"
   ]
  },
  {
   "cell_type": "code",
   "execution_count": 29,
   "id": "341996e1-b250-48ed-8d39-6c7a89b1b623",
   "metadata": {},
   "outputs": [
    {
     "data": {
      "text/plain": [
       "[{'StepName': 'alt-llm-eval-poc--preprocessing',\n",
       "  'StartTime': datetime.datetime(2025, 3, 27, 16, 48, 4, 941000, tzinfo=tzlocal()),\n",
       "  'StepStatus': 'Executing',\n",
       "  'Metadata': {'TrainingJob': {'Arn': 'arn:aws:sagemaker:us-west-2:396913714882:training-job/preprocess-605x9kv1q06j-uf6rJ0g0lL'}},\n",
       "  'AttemptCount': 1}]"
      ]
     },
     "execution_count": 29,
     "metadata": {},
     "output_type": "execute_result"
    }
   ],
   "source": [
    "pipeline_execution_fail.list_steps()"
   ]
  },
  {
   "cell_type": "code",
   "execution_count": null,
   "id": "0dddd3a9-2cee-43af-8717-a61aecbc326a",
   "metadata": {},
   "outputs": [],
   "source": []
  }
 ],
 "metadata": {
  "kernelspec": {
   "display_name": "Python 3 (ipykernel)",
   "language": "python",
   "name": "python3"
  },
  "language_info": {
   "codemirror_mode": {
    "name": "ipython",
    "version": 3
   },
   "file_extension": ".py",
   "mimetype": "text/x-python",
   "name": "python",
   "nbconvert_exporter": "python",
   "pygments_lexer": "ipython3",
   "version": "3.11.11"
  }
 },
 "nbformat": 4,
 "nbformat_minor": 5
}
